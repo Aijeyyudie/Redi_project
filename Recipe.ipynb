{
  "nbformat": 4,
  "nbformat_minor": 0,
  "metadata": {
    "colab": {
      "name": "Recipe.ipynb",
      "provenance": []
    },
    "kernelspec": {
      "name": "python3",
      "display_name": "Python 3"
    }
  },
  "cells": [
    {
      "cell_type": "code",
      "metadata": {
        "id": "jMQjLs5f93Oq",
        "colab_type": "code",
        "outputId": "9fc4846f-cc16-44fa-f08d-2645122b8882",
        "colab": {
          "base_uri": "https://localhost:8080/",
          "height": 139
        }
      },
      "source": [
        "#recipe_book = {\"Onion Soup\":[\"Ingredients\":[\"onions\", \"butter\", \"water\",\"salt\"],\"Methods\":[\"wash and slice the onions\",\"put in a frying pan and add butter\",\"add water and salt\",\"Cheese cake\":]]}\n",
        "\n",
        "\n",
        "recipe_book = {\"Onion Soup\":{\"Ingredients\":[\"onions\", \"butter\", \"water\",\"salt\"],\"Methods\":[\"wash and slice the onions\",\"put in a frying pan and add butter\",\"add water and salt\"]}, \n",
        "              'cheesecake' : {\"Ingredients\":['put the ingredent here'], 'method' : ['list method here']}, \n",
        "              'salad' : {\"Ingredients\":['put the ingredent here'],'method' : ['list method here']}}\n",
        "\n",
        "\n",
        "recipe_book2 = {\"chickensoup recipe\": {\"Ingredients\":['4 chicken thighs', '60g ginger','oil'],'method' :['boil and wash chicken']},\n",
        "                \"abacha Soup\":{\"Ingredients\":[\"casava\", \"redoil\", \"water\",\"salt\"],\"Methods\":[\"wash and slice and stir the dry cassava\"]}}   \n",
        "#for pick_item in recipe_book:\n",
        "\n",
        "selection = ['Add', 'Update', 'Search', 'Delete']\n",
        "\n",
        "choice = input(\"Hi, what would you like to do?: Add(a), Update(u), Search(s), Delete(d) \\n\")\n",
        "if choice in selection:\n",
        "  print('This action is available for you to perform')\n",
        "if choice == \"Delete\":\n",
        "  pick_item = input('which recipe do you want to delete? \\n')\n",
        "  if pick_item in recipe_book:\n",
        "    recipe_book.pop(pick_item)\n",
        "    print('these recipes are left in your recipe_book {}'.format(recipe_book))\n",
        "      \n",
        "\n",
        "\n",
        "\n",
        "\n",
        " \n",
        "   \n"
      ],
      "execution_count": 0,
      "outputs": [
        {
          "output_type": "stream",
          "text": [
            "Hi, what would you like to do?: Add(a), Update(u), Search(s), Delete(d) \n",
            "Delete\n",
            "This action is available for you to perform\n",
            "which recipe do you want to delete? \n",
            "cheesecake\n",
            "these recipes are left in your recipe_book {'Onion Soup': {'Ingredients': ['onions', 'butter', 'water', 'salt'], 'Methods': ['wash and slice the onions', 'put in a frying pan and add butter', 'add water and salt']}, 'salad': {'Ingredients': ['put the ingredent here'], 'method': ['list method here']}}\n"
          ],
          "name": "stdout"
        }
      ]
    }
  ]
}